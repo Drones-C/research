{
 "cells": [
  {
   "cell_type": "code",
   "execution_count": 2,
   "metadata": {
    "ExecuteTime": {
     "end_time": "2020-10-15T06:56:45.090630Z",
     "start_time": "2020-10-15T06:56:44.780817Z"
    }
   },
   "outputs": [],
   "source": [
    "import requests as r\n",
    "import pandas as pd\n",
    "import os\n",
    "from bs4 import BeautifulSoup"
   ]
  },
  {
   "cell_type": "code",
   "execution_count": 8,
   "metadata": {
    "ExecuteTime": {
     "end_time": "2020-10-15T06:59:11.889509Z",
     "start_time": "2020-10-15T06:59:11.886842Z"
    }
   },
   "outputs": [],
   "source": [
    "html = os.listdir(\"t\")\n",
    "assert len(html) == 19"
   ]
  },
  {
   "cell_type": "code",
   "execution_count": 51,
   "metadata": {
    "ExecuteTime": {
     "end_time": "2020-10-15T08:01:21.970394Z",
     "start_time": "2020-10-15T08:01:21.968160Z"
    }
   },
   "outputs": [],
   "source": [
    "CSV = []"
   ]
  },
  {
   "cell_type": "code",
   "execution_count": 52,
   "metadata": {
    "ExecuteTime": {
     "end_time": "2020-10-15T08:01:33.945091Z",
     "start_time": "2020-10-15T08:01:22.351856Z"
    }
   },
   "outputs": [],
   "source": [
    "for h in html:\n",
    "    with open(\"t/\"+h,\"r\") as f:\n",
    "        soup = BeautifulSoup(f.read(), 'html.parser')\n",
    "        rows = soup.find_all(\"grid-row\")\n",
    "        for r in rows:\n",
    "            soup_r = BeautifulSoup(str(r), 'html.parser')\n",
    "            company_name = soup_r.find_all(\"grid-cell\")[1].text.split(\" \")[-2]\n",
    "            use = soup_r.find_all(\"grid-cell\")[2].text\n",
    "            country = soup_r.find_all(\"grid-cell\")[3].text.split(\", \")[-1]\n",
    "            description = soup_r.find_all(\"grid-cell\")[4].text\n",
    "            funding = soup_r.find_all(\"grid-cell\")[5].text\n",
    "            url = soup_r.find_all(\"grid-cell\")[6].text\n",
    "            email = soup_r.find_all(\"grid-cell\")[7].text\n",
    "            founders = soup_r.find_all(\"grid-cell\")[8].text\n",
    "            CSV.append((company_name,use,country,description,funding,url,email,founders))"
   ]
  },
  {
   "cell_type": "code",
   "execution_count": 53,
   "metadata": {
    "ExecuteTime": {
     "end_time": "2020-10-15T08:02:28.348316Z",
     "start_time": "2020-10-15T08:02:28.332103Z"
    }
   },
   "outputs": [
    {
     "data": {
      "text/html": [
       "<div>\n",
       "<style scoped>\n",
       "    .dataframe tbody tr th:only-of-type {\n",
       "        vertical-align: middle;\n",
       "    }\n",
       "\n",
       "    .dataframe tbody tr th {\n",
       "        vertical-align: top;\n",
       "    }\n",
       "\n",
       "    .dataframe thead th {\n",
       "        text-align: right;\n",
       "    }\n",
       "</style>\n",
       "<table border=\"1\" class=\"dataframe\">\n",
       "  <thead>\n",
       "    <tr style=\"text-align: right;\">\n",
       "      <th></th>\n",
       "      <th>Company Name</th>\n",
       "      <th>Use</th>\n",
       "      <th>Country</th>\n",
       "      <th>Description</th>\n",
       "      <th>Funding</th>\n",
       "      <th>Url</th>\n",
       "      <th>Email</th>\n",
       "      <th>Founders</th>\n",
       "    </tr>\n",
       "  </thead>\n",
       "  <tbody>\n",
       "    <tr>\n",
       "      <th>0</th>\n",
       "      <td>Skyways</td>\n",
       "      <td>Aerospace, Drone Management, Drones, Software...</td>\n",
       "      <td>United States</td>\n",
       "      <td>Skyways is creating a new form of transportati...</td>\n",
       "      <td>21,451</td>\n",
       "      <td>skyways.com</td>\n",
       "      <td>info@skyways.com</td>\n",
       "      <td>2</td>\n",
       "    </tr>\n",
       "    <tr>\n",
       "      <th>1</th>\n",
       "      <td>FlyNex</td>\n",
       "      <td>Drones, SaaS, Software</td>\n",
       "      <td>Germany</td>\n",
       "      <td>FlyNex empowers companies to operate and utili...</td>\n",
       "      <td>21,722</td>\n",
       "      <td>www.flynex.io</td>\n",
       "      <td>info@flynex.de</td>\n",
       "      <td>4</td>\n",
       "    </tr>\n",
       "    <tr>\n",
       "      <th>2</th>\n",
       "      <td>Nearthlab</td>\n",
       "      <td>Artificial Intelligence, Autonomous Vehicles,...</td>\n",
       "      <td>South Korea</td>\n",
       "      <td>AI-powered Automated Industrial Inspection Sol...</td>\n",
       "      <td>21,769</td>\n",
       "      <td>www.nearthlab.com/</td>\n",
       "      <td>contact@nearthlab.com</td>\n",
       "      <td>2</td>\n",
       "    </tr>\n",
       "    <tr>\n",
       "      <th>3</th>\n",
       "      <td>Nileworks</td>\n",
       "      <td>Drones, Field Support</td>\n",
       "      <td>Japan</td>\n",
       "      <td>Nileworks is a multicopter that automatically ...</td>\n",
       "      <td>21,799</td>\n",
       "      <td>www.nileworks.co.jp/</td>\n",
       "      <td>yamada@nileworks.co.jp</td>\n",
       "      <td>1</td>\n",
       "    </tr>\n",
       "    <tr>\n",
       "      <th>4</th>\n",
       "      <td>live</td>\n",
       "      <td>Artificial Intelligence, Drone Management, Dr...</td>\n",
       "      <td>Australia</td>\n",
       "      <td>Unleash live is a secure cloud platform which ...</td>\n",
       "      <td>21,970</td>\n",
       "      <td>unleashlive.com</td>\n",
       "      <td>getstarted@unleashlive.com</td>\n",
       "      <td>2</td>\n",
       "    </tr>\n",
       "  </tbody>\n",
       "</table>\n",
       "</div>"
      ],
      "text/plain": [
       "  Company Name                                                Use  \\\n",
       "0      Skyways   Aerospace, Drone Management, Drones, Software...   \n",
       "1       FlyNex                             Drones, SaaS, Software   \n",
       "2    Nearthlab   Artificial Intelligence, Autonomous Vehicles,...   \n",
       "3    Nileworks                              Drones, Field Support   \n",
       "4         live   Artificial Intelligence, Drone Management, Dr...   \n",
       "\n",
       "         Country                                        Description Funding  \\\n",
       "0  United States  Skyways is creating a new form of transportati...  21,451   \n",
       "1        Germany  FlyNex empowers companies to operate and utili...  21,722   \n",
       "2    South Korea  AI-powered Automated Industrial Inspection Sol...  21,769   \n",
       "3          Japan  Nileworks is a multicopter that automatically ...  21,799   \n",
       "4      Australia  Unleash live is a secure cloud platform which ...  21,970   \n",
       "\n",
       "                      Url                       Email Founders  \n",
       "0            skyways.com             info@skyways.com        2  \n",
       "1          www.flynex.io               info@flynex.de        4  \n",
       "2     www.nearthlab.com/        contact@nearthlab.com        2  \n",
       "3   www.nileworks.co.jp/       yamada@nileworks.co.jp        1  \n",
       "4        unleashlive.com   getstarted@unleashlive.com        2  "
      ]
     },
     "execution_count": 53,
     "metadata": {},
     "output_type": "execute_result"
    }
   ],
   "source": [
    "df = pd.DataFrame(CSV,columns=[\"Company Name\",\"Use\",\"Country\",\"Description\",\"Funding\",\"Url\",\"Email\",\"Founders\"])\n",
    "df.iloc[:5]"
   ]
  },
  {
   "cell_type": "code",
   "execution_count": 54,
   "metadata": {
    "ExecuteTime": {
     "end_time": "2020-10-15T08:02:46.013195Z",
     "start_time": "2020-10-15T08:02:46.004753Z"
    }
   },
   "outputs": [],
   "source": [
    "df.to_csv(\"parsing1.csv\")"
   ]
  },
  {
   "cell_type": "code",
   "execution_count": null,
   "metadata": {},
   "outputs": [],
   "source": []
  }
 ],
 "metadata": {
  "kernelspec": {
   "display_name": "Python 3",
   "language": "python",
   "name": "python3"
  },
  "language_info": {
   "codemirror_mode": {
    "name": "ipython",
    "version": 3
   },
   "file_extension": ".py",
   "mimetype": "text/x-python",
   "name": "python",
   "nbconvert_exporter": "python",
   "pygments_lexer": "ipython3",
   "version": "3.7.6"
  },
  "varInspector": {
   "cols": {
    "lenName": 16,
    "lenType": 16,
    "lenVar": 40
   },
   "kernels_config": {
    "python": {
     "delete_cmd_postfix": "",
     "delete_cmd_prefix": "del ",
     "library": "var_list.py",
     "varRefreshCmd": "print(var_dic_list())"
    },
    "r": {
     "delete_cmd_postfix": ") ",
     "delete_cmd_prefix": "rm(",
     "library": "var_list.r",
     "varRefreshCmd": "cat(var_dic_list()) "
    }
   },
   "types_to_exclude": [
    "module",
    "function",
    "builtin_function_or_method",
    "instance",
    "_Feature"
   ],
   "window_display": false
  }
 },
 "nbformat": 4,
 "nbformat_minor": 4
}
