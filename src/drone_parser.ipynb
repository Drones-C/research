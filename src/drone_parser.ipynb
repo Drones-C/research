{
 "cells": [
  {
   "cell_type": "code",
   "execution_count": 80,
   "metadata": {
    "ExecuteTime": {
     "end_time": "2020-10-14T18:13:46.835461Z",
     "start_time": "2020-10-14T18:13:46.590202Z"
    }
   },
   "outputs": [],
   "source": [
    "import requests as r\n",
    "import pandas as pd\n",
    "from bs4 import BeautifulSoup"
   ]
  },
  {
   "cell_type": "code",
   "execution_count": 81,
   "metadata": {
    "ExecuteTime": {
     "end_time": "2020-10-14T18:13:49.578690Z",
     "start_time": "2020-10-14T18:13:49.576404Z"
    }
   },
   "outputs": [],
   "source": [
    "CSV = []"
   ]
  },
  {
   "cell_type": "code",
   "execution_count": 47,
   "metadata": {
    "ExecuteTime": {
     "end_time": "2020-10-14T18:03:40.024058Z",
     "start_time": "2020-10-14T18:03:40.021515Z"
    }
   },
   "outputs": [],
   "source": [
    "url = \"https://uavcoach.com/drone-companies/\"\n",
    "allP = \"body > div.guides.all-products.small-12.columns.no-padding > div.guides__content-container > div:nth-child(3) > div\""
   ]
  },
  {
   "cell_type": "code",
   "execution_count": 48,
   "metadata": {
    "ExecuteTime": {
     "end_time": "2020-10-14T18:03:40.880585Z",
     "start_time": "2020-10-14T18:03:40.271439Z"
    }
   },
   "outputs": [],
   "source": [
    "html = r.get(url).text"
   ]
  },
  {
   "cell_type": "code",
   "execution_count": 49,
   "metadata": {
    "ExecuteTime": {
     "end_time": "2020-10-14T18:03:41.071214Z",
     "start_time": "2020-10-14T18:03:40.996279Z"
    }
   },
   "outputs": [],
   "source": [
    "soup = BeautifulSoup(html, 'html.parser')"
   ]
  },
  {
   "cell_type": "code",
   "execution_count": 50,
   "metadata": {
    "ExecuteTime": {
     "end_time": "2020-10-14T18:03:41.193598Z",
     "start_time": "2020-10-14T18:03:41.188664Z"
    }
   },
   "outputs": [],
   "source": [
    "html2 = soup.select_one(allP)"
   ]
  },
  {
   "cell_type": "code",
   "execution_count": 55,
   "metadata": {
    "ExecuteTime": {
     "end_time": "2020-10-14T18:04:12.403580Z",
     "start_time": "2020-10-14T18:04:12.368509Z"
    }
   },
   "outputs": [],
   "source": [
    "soup2 = BeautifulSoup(str(html2), 'html.parser')"
   ]
  },
  {
   "cell_type": "code",
   "execution_count": 63,
   "metadata": {
    "ExecuteTime": {
     "end_time": "2020-10-14T18:05:10.228569Z",
     "start_time": "2020-10-14T18:05:10.225699Z"
    }
   },
   "outputs": [],
   "source": [
    "p = soup2.find_all(\"p\")"
   ]
  },
  {
   "cell_type": "code",
   "execution_count": 83,
   "metadata": {
    "ExecuteTime": {
     "end_time": "2020-10-14T18:14:50.882779Z",
     "start_time": "2020-10-14T18:14:50.851301Z"
    }
   },
   "outputs": [
    {
     "name": "stdout",
     "output_type": "stream",
     "text": [
      "Attribute Error\n",
      "Attribute Error\n",
      "Attribute Error\n",
      "Attribute Error\n",
      "Attribute Error\n",
      "Attribute Error\n",
      "Attribute Error\n",
      "Attribute Error\n",
      "Attribute Error\n",
      "Attribute Error\n",
      "Attribute Error\n",
      "Attribute Error\n",
      "Attribute Error\n",
      "Attribute Error\n",
      "Attribute Error\n",
      "Attribute Error\n",
      "Attribute Error\n",
      "Attribute Error\n"
     ]
    }
   ],
   "source": [
    "for i in range(2,len(p),2):\n",
    "    current_p = p[i]\n",
    "    bs = BeautifulSoup(str(current_p), 'html.parser')\n",
    "    try:\n",
    "        company_name = bs.find(\"a\").text\n",
    "        url = str(bs.find(\"a\")[\"href\"])\n",
    "        description = current_p.text\n",
    "        CSV.append((company_name,url,description))\n",
    "    except AttributeError:\n",
    "        print(\"Attribute Error\")"
   ]
  },
  {
   "cell_type": "code",
   "execution_count": 87,
   "metadata": {
    "ExecuteTime": {
     "end_time": "2020-10-14T18:16:01.419672Z",
     "start_time": "2020-10-14T18:16:01.409456Z"
    }
   },
   "outputs": [
    {
     "data": {
      "text/html": [
       "<div>\n",
       "<style scoped>\n",
       "    .dataframe tbody tr th:only-of-type {\n",
       "        vertical-align: middle;\n",
       "    }\n",
       "\n",
       "    .dataframe tbody tr th {\n",
       "        vertical-align: top;\n",
       "    }\n",
       "\n",
       "    .dataframe thead th {\n",
       "        text-align: right;\n",
       "    }\n",
       "</style>\n",
       "<table border=\"1\" class=\"dataframe\">\n",
       "  <thead>\n",
       "    <tr style=\"text-align: right;\">\n",
       "      <th></th>\n",
       "      <th>company_name</th>\n",
       "      <th>url</th>\n",
       "      <th>description</th>\n",
       "    </tr>\n",
       "  </thead>\n",
       "  <tbody>\n",
       "    <tr>\n",
       "      <th>0</th>\n",
       "      <td>DJI</td>\n",
       "      <td>http://www.dji.com/</td>\n",
       "      <td>DJI is one of the top consumer drone manufactu...</td>\n",
       "    </tr>\n",
       "    <tr>\n",
       "      <th>1</th>\n",
       "      <td>DJI</td>\n",
       "      <td>http://www.dji.com/</td>\n",
       "      <td>DJI is one of the top consumer drone manufactu...</td>\n",
       "    </tr>\n",
       "    <tr>\n",
       "      <th>2</th>\n",
       "      <td>Twitter</td>\n",
       "      <td>https://twitter.com/parrot</td>\n",
       "      <td>Follow Parrot: Twitter | Facebook</td>\n",
       "    </tr>\n",
       "    <tr>\n",
       "      <th>3</th>\n",
       "      <td>Yuneec</td>\n",
       "      <td>http://yuneec.com/</td>\n",
       "      <td>Yuneec first started innovating in the aircraf...</td>\n",
       "    </tr>\n",
       "    <tr>\n",
       "      <th>4</th>\n",
       "      <td></td>\n",
       "      <td>https://149355317.v2.pressablecdn.com/wp-conte...</td>\n",
       "      <td>Kespry manufactures drones made specifically ...</td>\n",
       "    </tr>\n",
       "  </tbody>\n",
       "</table>\n",
       "</div>"
      ],
      "text/plain": [
       "  company_name                                                url  \\\n",
       "0          DJI                                http://www.dji.com/   \n",
       "1          DJI                                http://www.dji.com/   \n",
       "2      Twitter                         https://twitter.com/parrot   \n",
       "3       Yuneec                                 http://yuneec.com/   \n",
       "4               https://149355317.v2.pressablecdn.com/wp-conte...   \n",
       "\n",
       "                                         description  \n",
       "0  DJI is one of the top consumer drone manufactu...  \n",
       "1  DJI is one of the top consumer drone manufactu...  \n",
       "2                  Follow Parrot: Twitter | Facebook  \n",
       "3  Yuneec first started innovating in the aircraf...  \n",
       "4   Kespry manufactures drones made specifically ...  "
      ]
     },
     "execution_count": 87,
     "metadata": {},
     "output_type": "execute_result"
    }
   ],
   "source": [
    "df = pd.DataFrame(CSV, columns=[\"company_name\",\"url\",\"description\"])\n",
    "df.iloc[:5]"
   ]
  },
  {
   "cell_type": "code",
   "execution_count": 88,
   "metadata": {
    "ExecuteTime": {
     "end_time": "2020-10-14T18:16:41.444472Z",
     "start_time": "2020-10-14T18:16:41.426525Z"
    }
   },
   "outputs": [],
   "source": [
    "df.to_csv(\"parsing0\")"
   ]
  },
  {
   "cell_type": "code",
   "execution_count": null,
   "metadata": {},
   "outputs": [],
   "source": []
  }
 ],
 "metadata": {
  "kernelspec": {
   "display_name": "Python 3",
   "language": "python",
   "name": "python3"
  },
  "language_info": {
   "codemirror_mode": {
    "name": "ipython",
    "version": 3
   },
   "file_extension": ".py",
   "mimetype": "text/x-python",
   "name": "python",
   "nbconvert_exporter": "python",
   "pygments_lexer": "ipython3",
   "version": "3.7.6"
  },
  "varInspector": {
   "cols": {
    "lenName": 16,
    "lenType": 16,
    "lenVar": 40
   },
   "kernels_config": {
    "python": {
     "delete_cmd_postfix": "",
     "delete_cmd_prefix": "del ",
     "library": "var_list.py",
     "varRefreshCmd": "print(var_dic_list())"
    },
    "r": {
     "delete_cmd_postfix": ") ",
     "delete_cmd_prefix": "rm(",
     "library": "var_list.r",
     "varRefreshCmd": "cat(var_dic_list()) "
    }
   },
   "types_to_exclude": [
    "module",
    "function",
    "builtin_function_or_method",
    "instance",
    "_Feature"
   ],
   "window_display": false
  }
 },
 "nbformat": 4,
 "nbformat_minor": 4
}
